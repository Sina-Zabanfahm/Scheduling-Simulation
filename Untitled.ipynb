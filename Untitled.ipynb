{
 "cells": [
  {
   "cell_type": "markdown",
   "id": "c927d22b",
   "metadata": {},
   "source": [
    "Question 6) The idea is very similar to M/G/S queu. In fact all the functions have similar implementations. The only difference is that the distribution of the arrivals of the staff is uniform, in particular it is not modeled by interarrival time. For that reason, we first update the EventCalendar by all the arrival times. Then, starting from the first arrival, we update the calendar by removing people and adding EndOFTheService event."
   ]
  },
  {
   "cell_type": "code",
   "execution_count": 46,
   "id": "fae8b7f7",
   "metadata": {},
   "outputs": [],
   "source": [
    "import SimClasses\n",
    "import SimFunctions\n",
    "import SimRNG\n",
    "import numpy as np\n",
    "import scipy.stats as sp"
   ]
  },
  {
   "cell_type": "code",
   "execution_count": 47,
   "id": "f5793abf",
   "metadata": {},
   "outputs": [],
   "source": [
    "class DaySchedule():\n",
    "    def __init__(self, NStaff=270, MeanST=15, NServer=35, Phases=4, Lower = 0, Upper = 30):\n",
    "        \n",
    "        self.NStaff = NStaff\n",
    "        self.Lower = Lower\n",
    "        self.Upper = Upper\n",
    "        self.MeanST = MeanST\n",
    "        self.NServer = NServer\n",
    "        self.Phases = Phases\n",
    "        \n",
    "        self.Queue = SimClasses.FIFOQueue()\n",
    "        self.Wait = SimClasses.DTStat()\n",
    "        self.Server = SimClasses.Resource()\n",
    "        self.Calendar = SimClasses.EventCalendar()\n",
    "\n",
    "        \n",
    "        self.AllWaitMean = []\n",
    "        self.AllQueueMean = []\n",
    "        self.AllQueueNum = []\n",
    "        self.AllServerMean = []\n",
    "        \n",
    "        self.TheCTStats = []\n",
    "        self.TheDTStats = []\n",
    "        self.TheQueues = []\n",
    "        self.TheResources = []\n",
    "        \n",
    "        self.TheDTStats.append(self.Wait)\n",
    "        self.TheQueues.append(self.Queue)\n",
    "        self.TheResources.append(self.Server)\n",
    "        self.Server.SetUnits(self.NServer)\n",
    "        \n",
    "          \n",
    "    def SetArrival(self):\n",
    "        for staff in range(self.NStaff):\n",
    "            SimFunctions.Schedule(self.Calendar,'Arrival',SimRNG.Uniform(\n",
    "            self.Lower, self.Upper, 2))\n",
    "    def EndOfService(self):\n",
    "        #print('e',SimClasses.Clock)\n",
    "        if self.Queue.NumQueue() > 0:\n",
    "            ServiceTime = SimRNG.Erlang(self.Phases,self.MeanST,3)\n",
    "            InServiceCustomer = self.Queue.Remove()\n",
    "            self.Wait.Record(SimClasses.Clock - InServiceCustomer.CreateTime)\n",
    "            SimFunctions.Schedule(self.Calendar,\"EndOfService\",ServiceTime)\n",
    "\n",
    "        else:\n",
    "            self.Server.Free(1)\n",
    "    def Arrival(self):\n",
    "        #print('a',SimClasses.Clock)\n",
    "        Customer = SimClasses.Entity()\n",
    "        self.Queue.Add(Customer)\n",
    "        if  self.Server.Seize(1):\n",
    "            ServiceTime = SimRNG.Erlang(self.Phases,self.MeanST,3)\n",
    "\n",
    "            InServiceCustomer = self.Queue.Remove()\n",
    "            self.Wait.Record(SimClasses.Clock + ServiceTime - InServiceCustomer.CreateTime)\n",
    "            SimFunctions.Schedule(self.Calendar,\"EndOfService\",ServiceTime)\n",
    "    def CI(self, data,confidence = 0.975):\n",
    "        arr = np.array(data)\n",
    "        n = len(arr)\n",
    "        mean = np.mean(arr)\n",
    "        sd = np.std(arr,ddof = 1)\n",
    "        z_value = sp.norm.ppf(.975)\n",
    "        hw = z_value * sd / np.sqrt(n)\n",
    "        return mean, [mean-hw,mean + hw]\n",
    "    def Stats(self, reps = 10):\n",
    "        for i in range(reps):\n",
    "            SimFunctions.ClearStats(self.TheCTStats,self.TheDTStats)\n",
    "        \n",
    "            SimFunctions.SimFunctionsInit(self.Calendar, self.TheQueues,\n",
    "                                self.TheCTStats,\n",
    "                                self.TheDTStats,\n",
    "                                self.TheResources)\n",
    "            self.SetArrival()  \n",
    "            #print(self.Calendar.N())\n",
    "            NextEvent = self.Calendar.Remove()\n",
    "            \n",
    "            if NextEvent.EventType == 'Arrival':\n",
    "                self.Arrival()\n",
    "            elif NextEvent.EventType == 'EndOfService':\n",
    "                self.EndOfService()\n",
    "            while NextEvent!=None:\n",
    "                NextEvent = self.Calendar.Remove()\n",
    "                #print(NextEvent.EventType)\n",
    "                if NextEvent == None:\n",
    "                    break\n",
    "                SimClasses.Clock = NextEvent.EventTime\n",
    "            \n",
    "                if NextEvent.EventType == 'Arrival':\n",
    "                    self.Arrival()\n",
    "                elif NextEvent.EventType == 'EndOfService':\n",
    "                    self.EndOfService()\n",
    "            self.AllWaitMean.append(self.Wait.Mean())\n",
    "            self.AllQueueMean.append(self.Queue.Mean())\n",
    "            self.AllQueueNum.append(self.Queue.NumQueue())\n",
    "            self.AllServerMean.append(self.Server.Mean())\n",
    "        print(self.CI(self.AllWaitMean))\n",
    "\n",
    "\n",
    "        #print (i+1, self.Wait.Mean(), self.Queue.Mean(), self.Queue.NumQueue(), self.Server.Mean())\n",
    "\n"
   ]
  },
  {
   "cell_type": "code",
   "execution_count": 48,
   "id": "681bba3a",
   "metadata": {},
   "outputs": [
    {
     "name": "stdout",
     "output_type": "stream",
     "text": [
      "(105.24456835656139, [105.13899880685479, 105.35013790626799])\n"
     ]
    }
   ],
   "source": [
    "#Confidence interval for average waiting time for NServer = 10\n",
    "D = DaySchedule(NStaff = 170,NServer = 10)\n",
    "D.Stats(10000)"
   ]
  },
  {
   "cell_type": "code",
   "execution_count": 49,
   "id": "3e8843e2",
   "metadata": {},
   "outputs": [
    {
     "name": "stdout",
     "output_type": "stream",
     "text": [
      "(15.235533139176788, [14.985845394948356, 15.48522088340522])\n"
     ]
    }
   ],
   "source": [
    "# for NServer = 41, the average waiting time is around half an our\n",
    "D = DaySchedule(NStaff = 170,NServer = 40)\n",
    "D.Stats(100)"
   ]
  },
  {
   "cell_type": "code",
   "execution_count": null,
   "id": "a13406f7",
   "metadata": {},
   "outputs": [],
   "source": []
  },
  {
   "cell_type": "code",
   "execution_count": null,
   "id": "035b2b2b",
   "metadata": {},
   "outputs": [],
   "source": []
  }
 ],
 "metadata": {
  "kernelspec": {
   "display_name": "Python 3 (ipykernel)",
   "language": "python",
   "name": "python3"
  },
  "language_info": {
   "codemirror_mode": {
    "name": "ipython",
    "version": 3
   },
   "file_extension": ".py",
   "mimetype": "text/x-python",
   "name": "python",
   "nbconvert_exporter": "python",
   "pygments_lexer": "ipython3",
   "version": "3.9.13"
  }
 },
 "nbformat": 4,
 "nbformat_minor": 5
}
